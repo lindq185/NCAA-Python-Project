{
 "cells": [
  {
   "cell_type": "markdown",
   "metadata": {},
   "source": [
    "# **NCAA Tournament Data Analysis**#\n",
    "### Sifting through the Madness of College Basketball with Python\n",
    "\n",
    "One of the main goals at the outset of this independent study was to get more experienced with Python and in particular the methods in which it's used for data science. After completing some free online tutorials on the basics of the language, I selected the March Madness competition hosted by Kaggle as the data set to practice with.  \n",
    "\n",
    "\n",
    "\n",
    "Below, I'll go over some details of the project, my analysis to this point, and some of the struggles I've run into along the way.\n",
    "\n",
    "\n"
   ]
  },
  {
   "cell_type": "markdown",
   "metadata": {},
   "source": [
    " "
   ]
  },
  {
   "cell_type": "markdown",
   "metadata": {},
   "source": [
    "### The Data\n",
    "\n",
    "Below is a high level look at the data provided by the competition and more detailed info can be found [here](https://www.kaggle.com/c/march-machine-learning-mania-2016/data):\n",
    "\n",
    "\n",
    "* ***Teams*** - list of team names and associated TeamIDs.\n",
    "* ***Seasons*** - list day started and region breakdown for each season.\n",
    "* ***RegularSeasonCompactResults*** - game-by-game results for 31 seasons worth of data (1985 - 2015).  Includes winning and losing teams, scores, location of game, season, etc.\n",
    "* ***RegularSeasonDetailedResults*** - more in depth statistics of game-by-game results, but only avaialble for 2003 - 2015 seasons.  Things like FG, 3 pt shots, rebounds, etc.\n",
    "* ***TourneyCompactResults*** - Game-by-game tournament results (1985 - 2015) with same attributes as RegularSeason file.\n",
    "* ***TourneyDetailedResults*** - Game-by-game tournament results with same attributes as RegularSeasonDetailed file.\n",
    "* ***TourneySeeds*** - Identifies seeds for all tournament teams (1985 - 2015).\n",
    "\n",
    "\n",
    "\n",
    "\n",
    "The use of external data sources is encouraged, and my initial goal was to find or calculate coaches records on the hypothesis that in the randomness of the tournament, having a quality coach provides an advantage.   Unfortunately I wasn't able to find a source for this in time for the analysis.  \n",
    "\n",
    "(Probably OK this year considering Tom Izzo lost in the 1st round...)"
   ]
  },
  {
   "cell_type": "markdown",
   "metadata": {},
   "source": [
    " "
   ]
  },
  {
   "cell_type": "markdown",
   "metadata": {},
   "source": [
    "## Starting the analysis\n",
    "\n",
    "While the online bootcamp gave me some exposure to importing/manipulating datasets like these, the competition forums on Kaggle also proved really valuable, as there are a lot of experienced users who provide basic examples to help newcomers get started.  Some of the coding below was found through these means, while other solutions were sought out using Google-Fu.  \n",
    "\n",
    "First thing I did was import packages to be used, and some listed below were added throughout the course of my analysis when it became clear they were needed.\n"
   ]
  },
  {
   "cell_type": "code",
   "execution_count": 2,
   "metadata": {
    "collapsed": false
   },
   "outputs": [],
   "source": [
    "#Importing packages\n",
    "\n",
    "import re\n",
    "import numpy as np\n",
    "import pandas as pd \n",
    "from pandas.stats.api import ols\n",
    "from subprocess import check_output\n",
    "import statsmodels.formula.api as smf\n",
    "import os \n",
    "from scipy import stats, integrate\n",
    "import matplotlib.pyplot as plt\n",
    "%matplotlib inline"
   ]
  },
  {
   "cell_type": "code",
   "execution_count": 3,
   "metadata": {
    "collapsed": true
   },
   "outputs": [],
   "source": [
    "import seaborn as sns\n",
    "sns.set(color_codes=True)"
   ]
  },
  {
   "cell_type": "markdown",
   "metadata": {},
   "source": [
    "### Reading all relevant files\n",
    "\n",
    "More will be added to this list along the way, but these were the initial ones. \n",
    "\n",
    "Also the SampleSubmission file was an example to be used for Round 1 of the competition, which was running your predictive model on the last 4 tournament results.  The format was a game ID concatenated from Season_Team1ID_Team2 ID and the predicted likelihood that Team1 wins the game."
   ]
  },
  {
   "cell_type": "code",
   "execution_count": 9,
   "metadata": {
    "collapsed": false
   },
   "outputs": [
    {
     "name": "stdout",
     "output_type": "stream",
     "text": [
      "TourneySeeds -  (2014, 3)\n",
      "   Season Seed  Team\n",
      "0    1985  W01  1207\n",
      "1    1985  W02  1210\n",
      "2    1985  W03  1228\n",
      "3    1985  W04  1260\n",
      "4    1985  W05  1374\n",
      "\n",
      "RegularSeasonCompactResults -  (139920, 8)\n",
      "   Season  Daynum  Wteam  Wscore  Lteam  Lscore Wloc  Numot\n",
      "0    1985      20   1228      81   1328      64    N      0\n",
      "1    1985      25   1106      77   1354      70    H      0\n",
      "2    1985      25   1112      63   1223      56    H      0\n",
      "3    1985      25   1165      70   1432      54    H      0\n",
      "4    1985      25   1192      86   1447      74    H      0\n",
      "\n",
      "TourneyCompactResults -  (1983, 8)\n",
      "   Season  Daynum  Wteam  Wscore  Lteam  Lscore Wloc  Numot\n",
      "0    1985     136   1116      63   1234      54    N      0\n",
      "1    1985     136   1120      59   1345      58    N      0\n",
      "2    1985     136   1207      68   1250      43    N      0\n",
      "3    1985     136   1229      58   1425      55    N      0\n",
      "4    1985     136   1242      49   1325      38    N      0\n",
      "\n",
      "SampleSubmission -  (9112, 2)\n",
      "               Id  Pred\n",
      "0  2012_1104_1124   0.5\n",
      "1  2012_1104_1125   0.5\n",
      "2  2012_1104_1140   0.5\n",
      "3  2012_1104_1143   0.5\n",
      "4  2012_1104_1153   0.5\n"
     ]
    }
   ],
   "source": [
    "TourneySeeds = pd.read_csv('C:/Users/Nate/Documents/Data_Study/March_Madness/TourneySeeds.csv')\n",
    "SampleSubmission = pd.read_csv('C:/Users/Nate/Documents/Data_Study/March_Madness/SampleSubmission.csv')\n",
    "Seasons = pd.read_csv('C:/Users/Nate/Documents/Data_Study/March_Madness/Seasons.csv')\n",
    "Teams = pd.read_csv('C:/Users/Nate/Documents/Data_Study/March_Madness/Teams.csv')\n",
    "TourneySlots = pd.read_csv('C:/Users/Nate/Documents/Data_Study/March_Madness/TourneySlots.csv')\n",
    "TourneyDetailedResults = pd.read_csv('C:/Users/Nate/Documents/Data_Study/March_Madness/TourneyDetailedResults.csv')\n",
    "TourneyCompactResults = pd.read_csv('C:/Users/Nate/Documents/Data_Study/March_Madness/TourneyCompactResults.csv')\n",
    "RegularSeasonCompactResults = pd.read_csv('C:/Users/Nate/Documents/Data_Study/March_Madness/RegularSeasonCompactResults.csv')\n",
    "RegularSeasonDetailedResults = pd.read_csv('C:/Users/Nate/Documents/Data_Study/March_Madness/RegularSeasonDetailedResults.csv')\n",
    "team_dict = dict(zip(Teams['Team_Id'].values, Teams['Team_Name'].values))\n",
    "TourneyDetailedResults['Wteam_name'] = TourneyDetailedResults['Wteam'].map(team_dict)\n",
    "TourneyDetailedResults['Lteam_name'] = TourneyDetailedResults['Lteam'].map(team_dict)\n",
    "\n",
    "#Taking a look at the file sizes, columns, etc.\n",
    "\n",
    "print('TourneySeeds - ',TourneySeeds.shape)\n",
    "print(TourneySeeds.head(5))\n",
    "print()\n",
    "print('RegularSeasonCompactResults - ',RegularSeasonCompactResults.shape)\n",
    "print(RegularSeasonCompactResults.head(5))\n",
    "print()\n",
    "print('TourneyCompactResults - ',TourneyCompactResults.shape)\n",
    "print(TourneyCompactResults.head(5))\n",
    "print()\n",
    "\n",
    "print('SampleSubmission - ',SampleSubmission.shape)\n",
    "print(SampleSubmission.head(5))"
   ]
  },
  {
   "cell_type": "markdown",
   "metadata": {},
   "source": [
    "### Extracting Seed Numbers for Each Team\n",
    "\n",
    "As we can see above, the 'Seed' attribute in TourneySeeds also contains a letter indicating the region the team played that year.  To make calculations/numeric analysis possible, we cut out the region indicator. \n",
    "\n",
    "We also create a new file called game_to_predict by splitting the GameID used in the sample submission file so we can map other variables to the appropriate teams and seasons, starting with seed number here.  This will eventually help us create a submissions file."
   ]
  },
  {
   "cell_type": "code",
   "execution_count": 10,
   "metadata": {
    "collapsed": false
   },
   "outputs": [
    {
     "name": "stdout",
     "output_type": "stream",
     "text": [
      "      Season Seed  Team SeedNum\n",
      "2009    2015  Z12  1459      12\n",
      "2010    2015  Z13  1217      13\n",
      "2011    2015  Z14  1209      14\n",
      "2012    2015  Z15  1411      15\n",
      "2013    2015  Z16  1157      16\n",
      "\n",
      "               Id  season  team1  team2  TeamSeed1  TeamSeed2\n",
      "0  2012_1104_1124    2012   1104   1124          9          3\n",
      "1  2012_1104_1125    2012   1104   1125          9         14\n",
      "2  2012_1104_1140    2012   1104   1140          9         14\n",
      "3  2012_1104_1143    2012   1104   1143          9         12\n",
      "4  2012_1104_1153    2012   1104   1153          9          6\n"
     ]
    }
   ],
   "source": [
    "#Extracting seeds for each team\n",
    "\n",
    "TourneySeeds['SeedNum'] = TourneySeeds['Seed'].apply(lambda x: re.sub(\"[A-Z+a-z]\", \"\", x, flags=re.IGNORECASE))\n",
    "print(TourneySeeds.tail(5))\n",
    "print()\n",
    "\n",
    "game_to_predict = pd.concat([SampleSubmission['Id'],SampleSubmission['Id'].str.split('_', expand=True)], axis=1)\n",
    "game_to_predict.rename(columns={0: 'season', 1: 'team1',2: 'team2'}, inplace=True)\n",
    "game_to_predict['season'] = pd.to_numeric(game_to_predict['season'])\n",
    "game_to_predict['team1'] = pd.to_numeric(game_to_predict['team1'])\n",
    "game_to_predict['team2'] = pd.to_numeric(game_to_predict['team2'])\n",
    "TourneySeeds['Season'] = pd.to_numeric(TourneySeeds['Season'])\n",
    "TourneySeeds['Team'] = pd.to_numeric(TourneySeeds['Team'])\n",
    "TourneySeeds['SeedNum'] = pd.to_numeric(TourneySeeds['SeedNum'])\n",
    "game_to_predict = pd.merge(game_to_predict,TourneySeeds[['Season','Team','SeedNum']].rename(columns={'Season': 'season', 'Team': 'team1','SeedNum':'TeamSeed1'}),how='left',on=['season','team1'])\n",
    "game_to_predict = pd.merge(game_to_predict,TourneySeeds[['Season','Team','SeedNum']].rename(columns={'Season': 'season', 'Team': 'team2','SeedNum':'TeamSeed2'}),how='left',on=['season','team2'])\n",
    "print(game_to_predict.head(5))"
   ]
  },
  {
   "cell_type": "markdown",
   "metadata": {},
   "source": [
    "### We then add each team's seed to the TournamentCompactResults file using a left join."
   ]
  },
  {
   "cell_type": "code",
   "execution_count": 11,
   "metadata": {
    "collapsed": false
   },
   "outputs": [
    {
     "name": "stdout",
     "output_type": "stream",
     "text": [
      "   Season  Daynum  Wteam  Wscore  Lteam  Lscore Wloc  Numot  WSeedNum  \\\n",
      "0    1985     136   1116      63   1234      54    N      0         9   \n",
      "1    1985     136   1120      59   1345      58    N      0        11   \n",
      "2    1985     136   1207      68   1250      43    N      0         1   \n",
      "3    1985     136   1229      58   1425      55    N      0         9   \n",
      "4    1985     136   1242      49   1325      38    N      0         3   \n",
      "\n",
      "   LSeedNum  \n",
      "0         8  \n",
      "1         6  \n",
      "2        16  \n",
      "3         8  \n",
      "4        14  \n"
     ]
    }
   ],
   "source": [
    "#Joining (compact) results with Team Seeds\n",
    "\n",
    "compact_results = pd.merge(TourneyCompactResults, TourneySeeds[['Season','Team','SeedNum']].rename(columns={'Team': 'Wteam','SeedNum':'WSeedNum'}), how='left', on=['Season','Wteam'])\n",
    "compact_results = pd.merge(compact_results, TourneySeeds[['Season','Team','SeedNum']].rename(columns={'Team': 'Lteam','SeedNum':'LSeedNum'}), how='left', on=['Season','Lteam'])\n",
    "print(compact_results.head(5))"
   ]
  },
  {
   "cell_type": "markdown",
   "metadata": {},
   "source": [
    "### Diverting from Forum Examples\n",
    "\n",
    "The steps to this point were illustrated in forum examples that looked to do a simple linear regression based on difference in seed number between teams.  While I do want to include this attribute in my eventual model, I also want to factor in regular season statistics to see how much predictive value they show for tournament results.\n",
    "\n",
    "\n",
    "Essentially what this entailed was summing the RegularSeasonCompactResults for each team and season combination.  I attempted to do this using the Groupby function in Pandas, and while it would aggregate the data based on the fields I indicated, it also changed it to another type that I wasn't able to revert back to a dataframe.  I was up against deadlines for the tournmanent and decided to do the calculations quick in Excel instead, creating two new attributes for win/loss margins, counts of wins/losses by location (Home, Away, or Neut), then splitting these into seperate files for winning categories and losing categories.\n",
    "\n",
    "Now that I had these, I could begin to put my file together.\n"
   ]
  },
  {
   "cell_type": "code",
   "execution_count": 12,
   "metadata": {
    "collapsed": false
   },
   "outputs": [
    {
     "name": "stdout",
     "output_type": "stream",
     "text": [
      "Total Game Statistics \n",
      "count    9821.000000\n",
      "mean       28.457591\n",
      "std         2.513580\n",
      "min        10.000000\n",
      "25%        27.000000\n",
      "50%        28.000000\n",
      "75%        30.000000\n",
      "max        36.000000\n",
      "Name: Total_G, dtype: float64\n",
      "\n",
      "RegSeason -  (9821, 20)\n",
      "   Season  Team_ID  Away_W  Home_W  Neut_W  Total_W  Wscore  Win_Margin  \\\n",
      "0    1985     1102       3       2       0        5     355          50   \n",
      "1    1985     1103       2       7       0        9     632          68   \n",
      "2    1985     1104       5      15       1       21    1514         277   \n",
      "3    1985     1106       1       8       1       10     751          95   \n",
      "4    1985     1108       8       8       3       19    1631         263   \n",
      "\n",
      "   Away_L  Home_L  Neut_L  Lscore  Loss_Margin  Total_L  Total_G   Win_Pct  \\\n",
      "0       9       8       2    1159         -189       19       24  0.208333   \n",
      "1       8       6       0     772         -138       14       23  0.391304   \n",
      "2       6       1       2     541          -43        9       30  0.700000   \n",
      "3      10       1       3     968         -186       14       24  0.416667   \n",
      "4       4       1       1     444          -64        6       25  0.760000   \n",
      "\n",
      "   Total_Pts  Avg_Pts_Per  Avg_Win_Margin  Avg_Loss_Margin  \n",
      "0       1514    63.083333       10.000000        -9.947368  \n",
      "1       1404    61.043478        7.555556        -9.857143  \n",
      "2       2055    68.500000       13.190476        -4.777778  \n",
      "3       1719    71.625000        9.500000       -13.285714  \n",
      "4       2075    83.000000       13.842105       -10.666667  \n"
     ]
    }
   ],
   "source": [
    "#Merging new files WinStats and LossStats (aggregated data from RegSeasonCompactResults)\n",
    "\n",
    "WinStats = pd.read_csv('C:/Users/Nate/Documents/Data_Study/March_Madness/WinStats.csv')\n",
    "LossStats = pd.read_csv('C:/Users/Nate/Documents/Data_Study/March_Madness/LossStats.csv')\n",
    "\n",
    "RegSeason = pd.merge(WinStats,LossStats[['Season','Team_ID','Away_L', 'Home_L', 'Neut_L', 'Lscore','Loss_Margin']],how='left',on=['Season','Team_ID'])\n",
    "\n",
    "#Replacing NAN with zeros so calculations work\n",
    "RegSeason = RegSeason.fillna(0)\n",
    "\n",
    "#Adding additional attributes to get winning percentage\n",
    "RegSeason['Total_L']=RegSeason['Away_L']+RegSeason['Home_L']+RegSeason['Neut_L']\n",
    "RegSeason['Total_W']=RegSeason['Away_W']+RegSeason['Home_W']+RegSeason['Neut_W']\n",
    "RegSeason['Total_G']=RegSeason['Total_W']+RegSeason['Total_L']\n",
    "RegSeason['Win_Pct']=RegSeason['Total_W']/RegSeason['Total_G']\n",
    "RegSeason['Total_Pts']=RegSeason['Wscore']+RegSeason['Lscore']\n",
    "\n",
    "\"\"\"\n",
    "Realized after first model that number of games played varies from team to team\n",
    "While more games played could be a sign of success (ie made it further in conf tournament), things like total pts \n",
    "and total margin of victory would be better served as per game averages\n",
    "\"\"\"\n",
    "print('Total Game Statistics ')\n",
    "print(RegSeason['Total_G'].describe())\n",
    "print()\n",
    "\n",
    "RegSeason['Avg_Pts_Per'] = RegSeason['Total_Pts']/RegSeason['Total_G']\n",
    "RegSeason['Avg_Win_Margin'] = RegSeason['Win_Margin']/RegSeason['Total_W']\n",
    "RegSeason['Avg_Loss_Margin'] = RegSeason['Loss_Margin']/RegSeason['Total_L']\n",
    "\n",
    "print('RegSeason - ',RegSeason.shape)\n",
    "print(RegSeason.head(5))"
   ]
  },
  {
   "cell_type": "markdown",
   "metadata": {},
   "source": [
    "### Merging RegSeason with TournamentResults\n",
    "\n",
    "My next step was to merge this new file with the compact_results file created earlier to map the regular season statistics to each winning and losing team for every tournament game."
   ]
  },
  {
   "cell_type": "code",
   "execution_count": 13,
   "metadata": {
    "collapsed": false
   },
   "outputs": [
    {
     "name": "stdout",
     "output_type": "stream",
     "text": [
      "  Season  Daynum Wteam  Wscore Lteam  Lscore Wloc  Numot  WSeedNum  LSeedNum  \\\n",
      "0   1985     136  1116      63  1234      54    N      0         9         8   \n",
      "1   1985     136  1120      59  1345      58    N      0        11         6   \n",
      "2   1985     136  1207      68  1250      43    N      0         1        16   \n",
      "3   1985     136  1229      58  1425      55    N      0         9         8   \n",
      "4   1985     136  1242      49  1325      38    N      0         3        14   \n",
      "\n",
      "          Game_ID  \n",
      "0  1985_1116_1234  \n",
      "1  1985_1120_1345  \n",
      "2  1985_1207_1250  \n",
      "3  1985_1229_1425  \n",
      "4  1985_1242_1325  \n"
     ]
    }
   ],
   "source": [
    "#first want to create a Game_ID column in compact_results by changing relevant attributes to strings and concatenating\n",
    "\n",
    "compact_results['Wteam'] = compact_results['Wteam'].astype(str)\n",
    "compact_results['Lteam'] = compact_results['Lteam'].astype(str)\n",
    "compact_results['Season'] = compact_results['Season'].astype(str)\n",
    "\n",
    "compact_results['Game_ID'] = compact_results['Season'] + '_' + compact_results['Wteam'] + '_' + compact_results['Lteam']\n",
    "print(compact_results.head(5))"
   ]
  },
  {
   "cell_type": "code",
   "execution_count": 11,
   "metadata": {
    "collapsed": false
   },
   "outputs": [
    {
     "name": "stdout",
     "output_type": "stream",
     "text": [
      "Set3  (1983, 16)\n",
      "Set4  (1983, 16)\n"
     ]
    }
   ],
   "source": [
    "#Have to convert variables in RegSeason to same type so the merge will work\n",
    "RegSeason['Team_ID'] = RegSeason['Team_ID'].astype(str)\n",
    "RegSeason['Season'] = RegSeason['Season'].astype(str)\n",
    "\n",
    "#seperating the winners and losers from compact_results to merge with regular season stats based on team_ID and season\n",
    "set3 = compact_results[['Season','Wteam','Wscore','WSeedNum','Game_ID']].rename(columns={'Wteam':'Team_ID'})\n",
    "set3 = pd.merge(set3,RegSeason[['Season','Team_ID','Away_L', 'Home_L', 'Neut_L','Avg_Loss_Margin', 'Away_W', 'Home_W', 'Neut_W', 'Total_W','Avg_Win_Margin','Win_Pct', 'Avg_Pts_Per']],how='left',on=['Season','Team_ID'])\n",
    "\n",
    "set4 = compact_results[['Season','Lteam','Lscore','LSeedNum','Game_ID']].rename(columns={'Lteam':'Team_ID'})\n",
    "set4 = pd.merge(set4,RegSeason[['Season','Team_ID','Away_L', 'Home_L', 'Neut_L','Avg_Loss_Margin', 'Away_W','Home_W', 'Neut_W', 'Total_W','Avg_Win_Margin', 'Win_Pct', 'Avg_Pts_Per']],how='left',on=['Season','Team_ID'])\n",
    "\n",
    "print('Set3 ',set3.shape)\n",
    "print('Set4 ',set4.shape)\n"
   ]
  },
  {
   "cell_type": "markdown",
   "metadata": {},
   "source": [
    "### EDA: Comparing RegSeason Statistics for Tournament Winners and Losers"
   ]
  },
  {
   "cell_type": "code",
   "execution_count": 9,
   "metadata": {
    "collapsed": false
   },
   "outputs": [
    {
     "name": "stdout",
     "output_type": "stream",
     "text": [
      "RegSeason Means for Teams with Tournament Wins:\n",
      "WSeedNum            4.898134\n",
      "Away_L              4.012103\n",
      "Home_L              1.568835\n",
      "Neut_L              1.249117\n",
      "Avg_Loss_Margin    -8.315957\n",
      "Away_W              6.961170\n",
      "Home_W             13.428139\n",
      "Neut_W              3.517902\n",
      "Total_W            23.907211\n",
      "Avg_Win_Margin     15.972721\n",
      "Win_Pct             0.776651\n",
      "Avg_Pts_Per        77.538592\n",
      "dtype: float64\n",
      "\n",
      "Avg RegSeason Means for Teams with Tournament losses:\n",
      "LSeedNum            8.692890\n",
      "Away_L              5.114977\n",
      "Home_L              1.944024\n",
      "Neut_L              1.182047\n",
      "Avg_Loss_Margin    -9.254753\n",
      "Away_W              6.627837\n",
      "Home_W             12.319718\n",
      "Neut_W              2.912758\n",
      "Total_W            21.860313\n",
      "Avg_Win_Margin     14.181754\n",
      "Win_Pct             0.725421\n",
      "Avg_Pts_Per        75.116365\n",
      "dtype: float64\n"
     ]
    }
   ],
   "source": [
    "#Looking at means for attributes of interest to see how they differ across teams with tourney wins and losses.  \n",
    "\n",
    "print('RegSeason Means for Teams with Tournament Wins:')\n",
    "print(set3[['WSeedNum','Away_L', 'Home_L','Neut_L', 'Avg_Loss_Margin', 'Away_W', 'Home_W', 'Neut_W', 'Total_W','Avg_Win_Margin', 'Win_Pct', 'Avg_Pts_Per']].mean())\n",
    "print()\n",
    "print('Avg RegSeason Means for Teams with Tournament losses:')\n",
    "print(set4[['LSeedNum','Away_L', 'Home_L','Neut_L', 'Avg_Loss_Margin', 'Away_W', 'Home_W', 'Neut_W', 'Total_W','Avg_Win_Margin', 'Win_Pct', 'Avg_Pts_Per']].mean())\n"
   ]
  },
  {
   "cell_type": "code",
   "execution_count": 10,
   "metadata": {
    "collapsed": false
   },
   "outputs": [
    {
     "data": {
      "image/png": "[encoded data removed]",
      "text/plain": [
       "<matplotlib.figure.Figure at 0xec565300f0>"
      ]
     },
     "metadata": {},
     "output_type": "display_data"
    }
   ],
   "source": [
    "#Plotting Distributions for each variable, with Blue representing winners and Green losers\n",
    "\n",
    "sns.kdeplot(set3['WSeedNum'], shade=True);\n",
    "sns.kdeplot(set4['LSeedNum'], shade=True);"
   ]
  },
  {
   "cell_type": "code",
   "execution_count": 11,
   "metadata": {
    "collapsed": false
   },
   "outputs": [
    {
     "data": {
      "image/png": "[encoded data removed]",
      "text/plain": [
       "<matplotlib.figure.Figure at 0xec5637e320>"
      ]
     },
     "metadata": {},
     "output_type": "display_data"
    }
   ],
   "source": [
    "sns.kdeplot(set3['Win_Pct'], shade=True);\n",
    "sns.kdeplot(set4['Win_Pct'], shade=True);"
   ]
  },
  {
   "cell_type": "code",
   "execution_count": 12,
   "metadata": {
    "collapsed": false
   },
   "outputs": [
    {
     "data": {
      "image/png": "[encoded data removed]",
      "text/plain": [
       "<matplotlib.figure.Figure at 0xec564a3e48>"
      ]
     },
     "metadata": {},
     "output_type": "display_data"
    }
   ],
   "source": [
    "sns.kdeplot(set3['Avg_Win_Margin'], shade=True);\n",
    "sns.kdeplot(set4['Avg_Win_Margin'], shade=True);"
   ]
  },
  {
   "cell_type": "code",
   "execution_count": 13,
   "metadata": {
    "collapsed": false
   },
   "outputs": [
    {
     "data": {
      "image/png": "[encoded data removed]",
      "text/plain": [
       "<matplotlib.figure.Figure at 0xec562cef60>"
      ]
     },
     "metadata": {},
     "output_type": "display_data"
    }
   ],
   "source": [
    "sns.kdeplot(set3['Avg_Loss_Margin'], shade=True);\n",
    "sns.kdeplot(set4['Avg_Loss_Margin'], shade=True);"
   ]
  },
  {
   "cell_type": "code",
   "execution_count": 14,
   "metadata": {
    "collapsed": false
   },
   "outputs": [
    {
     "data": {
      "image/png": "[encoded data removed]",
      "text/plain": [
       "<matplotlib.figure.Figure at 0xec563eec18>"
      ]
     },
     "metadata": {},
     "output_type": "display_data"
    }
   ],
   "source": [
    "sns.kdeplot(set3['Avg_Pts_Per'], shade=True);\n",
    "sns.kdeplot(set4['Avg_Pts_Per'], shade=True);"
   ]
  },
  {
   "cell_type": "markdown",
   "metadata": {},
   "source": [
    "### Some things that stand out...\n",
    "\n",
    "* The means for each attribute are more favorable for winning tournament teams, however the margin of difference in most cases is very small when averaged.  The only attribute with a noticeable difference is ***Seed Number***, which is to be expected considering that lower-seeded teams are by definition given the advantage of playing teams with less impressive records/stats than them.\n",
    "* Consideration for averages for this data: there are only 32 unique teams that will record a win (the recently added play-in games not considered).  Of these, 31 will also record a tournament loss that same year with only the champion going undefeated.  So if a team wins one game and loses the next (16 cases each year), the regular season stats essentially cancel each other out, while those teams that go on to win multiple games should have more weight on the difference between winning and losing teams.\n",
    "* The plots for each attribute also favor winning teams in the way we'd expect, and the ***Seed Number*** distributions are the only ones that don't appear to follow a Guassian distribution (or close to).  This shows us that teams seeded 1-3 win tournament games between 3-15x more often than they lose, and teams ranked as 6 or 7 seeds win roughly just as often as they lose.  \n",
    "* The other two distribution exceptions are ***Avg_Win_Margin*** (slightly skewed right) and *** Avg_Loss_Margin***  (skewed left).\n",
    "* One thing that is interesting is that for winning teams, there is a slight abrupt drop or jagged corner for each attribute, most considerably in *** Win_Pct***.  This could indicate that it's fairly common for winning teams to have a high level of performance, but their is a threshold somewhere that significantly fewer teams reach.\n",
    "\n",
    "\n",
    "At this point I continued with my plan of creating a linear regression comparing the difference in RegSeason attributes for each matchup for the sake of getting my first working model in Python, but the small difference in these categories had me concerned about their predictive value.\n"
   ]
  },
  {
   "cell_type": "markdown",
   "metadata": {},
   "source": [
    " "
   ]
  },
  {
   "cell_type": "markdown",
   "metadata": {},
   "source": [
    "### Every win for one team is a loss for another\n",
    "\n",
    "Now I have two seperate dataframes for winners and losers of tournament games merged with regular season stats, next I need to create the binary variable of Team1Win.  Essentially I need two records for every tourney game played, one with the winning team first + Team1Win = 1, and one with losing team first + Team1Win = 0."
   ]
  },
  {
   "cell_type": "code",
   "execution_count": 120,
   "metadata": {
    "collapsed": false
   },
   "outputs": [
    {
     "name": "stdout",
     "output_type": "stream",
     "text": [
      "complete_set (3966, 31)\n",
      "Index(['Season', 'Team1', 'Team1_Score', 'Team1Seed', 'Game_ID', 'Away_L',\n",
      "       'Home_L', 'Neut_L', 'Avg_Loss_Margin', 'Away_W', 'Home_W', 'Neut_W',\n",
      "       'Total_W', 'Avg_Win_Margin', 'Win_Pct', 'Avg_Pts_Per', 'Team2',\n",
      "       'Team2_Score', 'Team2Seed', 'Away_L2', 'Home_L2', 'Neut_L2',\n",
      "       'Avg_Loss_Margin2', 'Away_W2', 'Home_W2', 'Neut_W2', 'Total_W2',\n",
      "       'Avg_Win_Margin2', 'Win_Pct2', 'Avg_Pts_Per2', 'Team1Win'],\n",
      "      dtype='object')\n",
      "\n"
     ]
    }
   ],
   "source": [
    "#Renaming columns so that when I merge them together, team 1 and team 2 stats are unique.  Sets 3 and 4 are for winners set to Team1 (Team1Win = 1).  \n",
    "#Sets 5 and 6 are for losers set to Team1 (Team1Win = 0).  This was tedious and my guess is there is a prettier way to do this in Python.\n",
    "\n",
    "set3 = set3.rename(columns={'Team_ID':'Team1','Wscore':'Team1_Score','WSeedNum':'Team1Seed'})\n",
    "set4 = set4.rename(columns={'Team_ID':'Team2', 'Lscore':'Team2_Score','LSeedNum':'Team2Seed','Away_L':'Away_L2','Home_L':'Home_L2','Neut_L':'Neut_L2','Avg_Loss_Margin':'Avg_Loss_Margin2', 'Away_W':'Away_W2', 'Home_W':'Home_W2', 'Neut_W':'Neut_W2', 'Total_W':'Total_W2','Avg_Win_Margin':'Avg_Win_Margin2', 'Win_Pct':'Win_Pct2', 'Avg_Pts_Per':'Avg_Pts_Per2'})\n",
    "\n",
    "set5 = set4.rename(columns={'Team2':'Team1', 'Team2_Score':'Team1_Score','Team2Seed':'Team1Seed','Away_L2':'Away_L','Home_L2':'Home_L','Neut_L2':'Neut_L','Avg_Loss_Margin2':'Avg_Loss_Margin', 'Away_W2':'Away_W', 'Home_W2':'Home_W', 'Neut_W2':'Neut_W', 'Total_W2':'Total_W','Avg_Win_Margin2':'Avg_Win_Margin', 'Win_Pct2':'Win_Pct', 'Avg_Pts_Per2':'Avg_Pts_Per'})\n",
    "set6 = set3.rename(columns={'Team1':'Team2', 'Team1_Score':'Team2_Score','Team1Seed':'Team2Seed','Away_L':'Away_L2','Home_L':'Home_L2','Neut_L':'Neut_L2','Avg_Loss_Margin':'Avg_Loss_Margin2', 'Away_W':'Away_W2', 'Home_W':'Home_W2', 'Neut_W':'Neut_W2', 'Total_W':'Total_W2','Avg_Win_Margin':'Avg_Win_Margin2', 'Win_Pct':'Win_Pct2', 'Avg_Pts_Per':'Avg_Pts_Per2'})\n",
    "\n",
    "#Setting Team1Win.  This will be the target variable for our regression.\n",
    "\n",
    "winnerfirst_set = pd.merge(set3,set4,how='left',on=['Game_ID'])\n",
    "winnerfirst_set['Team1Win']=1\n",
    "\n",
    "loserfirst_set = pd.merge(set5,set6,how='left',on=['Game_ID'])\n",
    "loserfirst_set['Team1Win']=0\n",
    "\n",
    "#combining the 2 files into one and setting these variables to numeric.  \n",
    "\n",
    "complete_set = pd.concat([winnerfirst_set,loserfirst_set],ignore_index=True)\n",
    "complete_set['Team1Seed'] = pd.to_numeric(complete_set['Team1Seed'])\n",
    "complete_set['Team2Seed'] = pd.to_numeric(complete_set['Team2Seed'])\n",
    "complete_set['Team1Win'] = pd.to_numeric(complete_set['Team1Win'])\n",
    "\n",
    "#dropping duplicated season attribute\n",
    "complete_set = complete_set.drop(['Season_y'],axis=1)\n",
    "complete_set = complete_set.rename(columns={'Season_x':'Season'})\n",
    "\n",
    "\n",
    "print('complete_set', complete_set.shape)\n",
    "print(complete_set.columns)\n",
    "print()\n"
   ]
  },
  {
   "cell_type": "code",
   "execution_count": 16,
   "metadata": {
    "collapsed": false
   },
   "outputs": [
    {
     "name": "stdout",
     "output_type": "stream",
     "text": [
      "          Game_ID Team1 Team2  Seed_Dif  Win_Pct_Dif  Avg_Win_Margin_Dif  \\\n",
      "0  1985_1116_1234  1116  1234         1    -0.030303           -8.116667   \n",
      "1  1985_1120_1345  1120  1345         5    -0.059310           -0.696078   \n",
      "2  1985_1207_1250  1207  1250       -15     0.546616           11.040000   \n",
      "3  1985_1229_1425  1229  1425         1     0.062169            1.928947   \n",
      "4  1985_1242_1325  1242  1325       -11     0.025926            1.243478   \n",
      "\n",
      "   Avg_Loss_Margin_Dif  Avg_Pts_Per_Dif  Team1Win  \n",
      "0            -2.583333        -4.400000         1  \n",
      "1             5.113636         1.224828         1  \n",
      "2             9.333333         9.982120         1  \n",
      "3            -1.317460         3.199735         1  \n",
      "4            -1.285714         8.477778         1  \n",
      "\n",
      "             Game_ID Team1 Team2  Seed_Dif  Win_Pct_Dif  Avg_Win_Margin_Dif  \\\n",
      "3961  2015_1181_1211  1211  1181         1     0.060606           -0.132369   \n",
      "3962  2015_1277_1257  1257  1277        -3     0.073529            0.014493   \n",
      "3963  2015_1181_1277  1277  1181         6    -0.202317           -2.899550   \n",
      "3964  2015_1458_1246  1246  1458         0     0.088235            2.973435   \n",
      "3965  2015_1181_1458  1458  1181         0     0.032977           -0.583982   \n",
      "\n",
      "      Avg_Loss_Margin_Dif  Avg_Pts_Per_Dif  Team1Win  \n",
      "3961             7.500000        -2.393939         0  \n",
      "3962            -1.704545        -2.663603         0  \n",
      "3963             3.954545        -8.723708         0  \n",
      "3964             7.000000         3.029412         0  \n",
      "3965             3.500000        -8.723708         0  \n"
     ]
    }
   ],
   "source": [
    "#found there were still a few blanks in avg_loss_margin for teams that never lost, so filling those with zero so the below calculations work\n",
    "complete_set = complete_set.fillna(0)\n",
    "\n",
    "#creating attributes for differences between 1st and 2nd team, then making a smaller dataframe with just the relevant variables to work with\n",
    "\n",
    "complete_set['Seed_Dif']=complete_set['Team1Seed']-complete_set['Team2Seed']\n",
    "complete_set['Win_Pct_Dif']=complete_set['Win_Pct']-complete_set['Win_Pct2']\n",
    "complete_set['Total_W_Dif']=complete_set['Total_W']-complete_set['Total_W2']\n",
    "complete_set['Avg_Win_Margin_Dif']=complete_set['Avg_Win_Margin']-complete_set['Avg_Win_Margin2']\n",
    "complete_set['Avg_Loss_Margin_Dif']=complete_set['Avg_Loss_Margin']-complete_set['Avg_Loss_Margin2']\n",
    "complete_set['Avg_Pts_Per_Dif']=complete_set['Avg_Pts_Per']-complete_set['Avg_Pts_Per2']\n",
    "\n",
    "RegressionSet = complete_set[['Game_ID','Team1','Team2','Seed_Dif','Win_Pct_Dif','Avg_Win_Margin_Dif','Avg_Loss_Margin_Dif','Avg_Pts_Per_Dif','Team1Win']]\n",
    "\n",
    "print(RegressionSet.head(5))\n",
    "print()\n",
    "print(RegressionSet.tail(5))\n"
   ]
  },
  {
   "cell_type": "markdown",
   "metadata": {},
   "source": [
    "### Creating a predictive model based on these differences\n",
    "\n",
    "The forum example I had found had looked at only Seed_Dif, so I want to use the other comparison attributes as my independents first, then add Seed_Dif after."
   ]
  },
  {
   "cell_type": "code",
   "execution_count": 17,
   "metadata": {
    "collapsed": false
   },
   "outputs": [
    {
     "data": {
      "text/html": [
       "<table class=\"simpletable\">\n",
       "<caption>OLS Regression Results</caption>\n",
       "<tr>\n",
       "  <th>Dep. Variable:</th>        <td>Team1Win</td>     <th>  R-squared:         </th> <td>   0.168</td> \n",
       "</tr>\n",
       "<tr>\n",
       "  <th>Model:</th>                   <td>OLS</td>       <th>  Adj. R-squared:    </th> <td>   0.167</td> \n",
       "</tr>\n",
       "<tr>\n",
       "  <th>Method:</th>             <td>Least Squares</td>  <th>  F-statistic:       </th> <td>   199.4</td> \n",
       "</tr>\n",
       "<tr>\n",
       "  <th>Date:</th>             <td>Wed, 27 Apr 2016</td> <th>  Prob (F-statistic):</th> <td>5.63e-156</td>\n",
       "</tr>\n",
       "<tr>\n",
       "  <th>Time:</th>                 <td>10:48:28</td>     <th>  Log-Likelihood:    </th> <td> -2514.7</td> \n",
       "</tr>\n",
       "<tr>\n",
       "  <th>No. Observations:</th>      <td>  3966</td>      <th>  AIC:               </th> <td>   5039.</td> \n",
       "</tr>\n",
       "<tr>\n",
       "  <th>Df Residuals:</th>          <td>  3961</td>      <th>  BIC:               </th> <td>   5071.</td> \n",
       "</tr>\n",
       "<tr>\n",
       "  <th>Df Model:</th>              <td>     4</td>      <th>                     </th>     <td> </td>    \n",
       "</tr>\n",
       "<tr>\n",
       "  <th>Covariance Type:</th>      <td>nonrobust</td>    <th>                     </th>     <td> </td>    \n",
       "</tr>\n",
       "</table>\n",
       "<table class=\"simpletable\">\n",
       "<tr>\n",
       "           <td></td>              <th>coef</th>     <th>std err</th>      <th>t</th>      <th>P>|t|</th> <th>[95.0% Conf. Int.]</th> \n",
       "</tr>\n",
       "<tr>\n",
       "  <th>Intercept</th>           <td>    0.5000</td> <td>    0.007</td> <td>   68.982</td> <td> 0.000</td> <td>    0.486     0.514</td>\n",
       "</tr>\n",
       "<tr>\n",
       "  <th>Win_Pct_Dif</th>         <td>    0.6374</td> <td>    0.057</td> <td>   11.161</td> <td> 0.000</td> <td>    0.525     0.749</td>\n",
       "</tr>\n",
       "<tr>\n",
       "  <th>Avg_Win_Margin_Dif</th>  <td>    0.0195</td> <td>    0.002</td> <td>   10.647</td> <td> 0.000</td> <td>    0.016     0.023</td>\n",
       "</tr>\n",
       "<tr>\n",
       "  <th>Avg_Loss_Margin_Dif</th> <td>    0.0102</td> <td>    0.002</td> <td>    5.788</td> <td> 0.000</td> <td>    0.007     0.014</td>\n",
       "</tr>\n",
       "<tr>\n",
       "  <th>Avg_Pts_Per_Dif</th>     <td>    0.0026</td> <td>    0.001</td> <td>    2.446</td> <td> 0.014</td> <td>    0.001     0.005</td>\n",
       "</tr>\n",
       "</table>\n",
       "<table class=\"simpletable\">\n",
       "<tr>\n",
       "  <th>Omnibus:</th>       <td> 1.001</td> <th>  Durbin-Watson:     </th> <td>   0.339</td>\n",
       "</tr>\n",
       "<tr>\n",
       "  <th>Prob(Omnibus):</th> <td> 0.606</td> <th>  Jarque-Bera (JB):  </th> <td> 345.870</td>\n",
       "</tr>\n",
       "<tr>\n",
       "  <th>Skew:</th>          <td> 0.000</td> <th>  Prob(JB):          </th> <td>7.86e-76</td>\n",
       "</tr>\n",
       "<tr>\n",
       "  <th>Kurtosis:</th>      <td> 1.553</td> <th>  Cond. No.          </th> <td>    75.3</td>\n",
       "</tr>\n",
       "</table>"
      ],
      "text/plain": [
       "<class 'statsmodels.iolib.summary.Summary'>\n",
       "\"\"\"\n",
       "                            OLS Regression Results                            \n",
       "==============================================================================\n",
       "Dep. Variable:               Team1Win   R-squared:                       0.168\n",
       "Model:                            OLS   Adj. R-squared:                  0.167\n",
       "Method:                 Least Squares   F-statistic:                     199.4\n",
       "Date:                Wed, 27 Apr 2016   Prob (F-statistic):          5.63e-156\n",
       "Time:                        10:48:28   Log-Likelihood:                -2514.7\n",
       "No. Observations:                3966   AIC:                             5039.\n",
       "Df Residuals:                    3961   BIC:                             5071.\n",
       "Df Model:                           4                                         \n",
       "Covariance Type:            nonrobust                                         \n",
       "=======================================================================================\n",
       "                          coef    std err          t      P>|t|      [95.0% Conf. Int.]\n",
       "---------------------------------------------------------------------------------------\n",
       "Intercept               0.5000      0.007     68.982      0.000         0.486     0.514\n",
       "Win_Pct_Dif             0.6374      0.057     11.161      0.000         0.525     0.749\n",
       "Avg_Win_Margin_Dif      0.0195      0.002     10.647      0.000         0.016     0.023\n",
       "Avg_Loss_Margin_Dif     0.0102      0.002      5.788      0.000         0.007     0.014\n",
       "Avg_Pts_Per_Dif         0.0026      0.001      2.446      0.014         0.001     0.005\n",
       "==============================================================================\n",
       "Omnibus:                        1.001   Durbin-Watson:                   0.339\n",
       "Prob(Omnibus):                  0.606   Jarque-Bera (JB):              345.870\n",
       "Skew:                           0.000   Prob(JB):                     7.86e-76\n",
       "Kurtosis:                       1.553   Cond. No.                         75.3\n",
       "==============================================================================\n",
       "\n",
       "Warnings:\n",
       "[1] Standard Errors assume that the covariance matrix of the errors is correctly specified.\n",
       "\"\"\""
      ]
     },
     "execution_count": 17,
     "metadata": {},
     "output_type": "execute_result"
    }
   ],
   "source": [
    "lm_1 = smf.ols(formula='Team1Win ~ Win_Pct_Dif + Avg_Win_Margin_Dif + Avg_Loss_Margin_Dif + Avg_Pts_Per_Dif', data=RegressionSet).fit()\n",
    "\n",
    "lm_1.summary()\n"
   ]
  },
  {
   "cell_type": "markdown",
   "metadata": {},
   "source": [
    "### Now let's look at Seed_Dif alone (simple Linear Regression)"
   ]
  },
  {
   "cell_type": "code",
   "execution_count": 18,
   "metadata": {
    "collapsed": false
   },
   "outputs": [
    {
     "name": "stdout",
     "output_type": "stream",
     "text": [
      "\n",
      "-------------------------Summary of Regression Analysis-------------------------\n",
      "\n",
      "Formula: Y ~ <x> + <intercept>\n",
      "\n",
      "Number of Observations:         3966\n",
      "Number of Degrees of Freedom:   2\n",
      "\n",
      "R-squared:         0.2525\n",
      "Adj R-squared:     0.2523\n",
      "\n",
      "Rmse:              0.4324\n",
      "\n",
      "F-stat (1, 3964):  1339.2037, p-value:     0.0000\n",
      "\n",
      "Degrees of Freedom: model 1, resid 3964\n",
      "\n",
      "-----------------------Summary of Estimated Coefficients------------------------\n",
      "      Variable       Coef    Std Err     t-stat    p-value    CI 2.5%   CI 97.5%\n",
      "--------------------------------------------------------------------------------\n",
      "             x    -0.0333     0.0009     -36.60     0.0000    -0.0351    -0.0315\n",
      "     intercept     0.5000     0.0069      72.82     0.0000     0.4865     0.5135\n",
      "---------------------------------End of Summary---------------------------------\n",
      "\n"
     ]
    }
   ],
   "source": [
    "lm_SeedOnly =ols(y=RegressionSet['Team1Win'],x=RegressionSet['Seed_Dif'])\n",
    "print(lm_SeedOnly)"
   ]
  },
  {
   "cell_type": "markdown",
   "metadata": {},
   "source": [
    "### Combining the two"
   ]
  },
  {
   "cell_type": "code",
   "execution_count": 19,
   "metadata": {
    "collapsed": false
   },
   "outputs": [
    {
     "data": {
      "text/html": [
       "<table class=\"simpletable\">\n",
       "<caption>OLS Regression Results</caption>\n",
       "<tr>\n",
       "  <th>Dep. Variable:</th>        <td>Team1Win</td>     <th>  R-squared:         </th> <td>   0.267</td> \n",
       "</tr>\n",
       "<tr>\n",
       "  <th>Model:</th>                   <td>OLS</td>       <th>  Adj. R-squared:    </th> <td>   0.266</td> \n",
       "</tr>\n",
       "<tr>\n",
       "  <th>Method:</th>             <td>Least Squares</td>  <th>  F-statistic:       </th> <td>   288.5</td> \n",
       "</tr>\n",
       "<tr>\n",
       "  <th>Date:</th>             <td>Wed, 27 Apr 2016</td> <th>  Prob (F-statistic):</th> <td>7.43e-264</td>\n",
       "</tr>\n",
       "<tr>\n",
       "  <th>Time:</th>                 <td>10:48:47</td>     <th>  Log-Likelihood:    </th> <td> -2262.6</td> \n",
       "</tr>\n",
       "<tr>\n",
       "  <th>No. Observations:</th>      <td>  3966</td>      <th>  AIC:               </th> <td>   4537.</td> \n",
       "</tr>\n",
       "<tr>\n",
       "  <th>Df Residuals:</th>          <td>  3960</td>      <th>  BIC:               </th> <td>   4575.</td> \n",
       "</tr>\n",
       "<tr>\n",
       "  <th>Df Model:</th>              <td>     5</td>      <th>                     </th>     <td> </td>    \n",
       "</tr>\n",
       "<tr>\n",
       "  <th>Covariance Type:</th>      <td>nonrobust</td>    <th>                     </th>     <td> </td>    \n",
       "</tr>\n",
       "</table>\n",
       "<table class=\"simpletable\">\n",
       "<tr>\n",
       "           <td></td>              <th>coef</th>     <th>std err</th>      <th>t</th>      <th>P>|t|</th> <th>[95.0% Conf. Int.]</th> \n",
       "</tr>\n",
       "<tr>\n",
       "  <th>Intercept</th>           <td>    0.5000</td> <td>    0.007</td> <td>   73.501</td> <td> 0.000</td> <td>    0.487     0.513</td>\n",
       "</tr>\n",
       "<tr>\n",
       "  <th>Seed_Dif</th>            <td>   -0.0282</td> <td>    0.001</td> <td>  -23.174</td> <td> 0.000</td> <td>   -0.031    -0.026</td>\n",
       "</tr>\n",
       "<tr>\n",
       "  <th>Win_Pct_Dif</th>         <td>   -0.0134</td> <td>    0.061</td> <td>   -0.222</td> <td> 0.824</td> <td>   -0.132     0.105</td>\n",
       "</tr>\n",
       "<tr>\n",
       "  <th>Avg_Win_Margin_Dif</th>  <td>    0.0092</td> <td>    0.002</td> <td>    5.170</td> <td> 0.000</td> <td>    0.006     0.013</td>\n",
       "</tr>\n",
       "<tr>\n",
       "  <th>Avg_Loss_Margin_Dif</th> <td>    0.0061</td> <td>    0.002</td> <td>    3.650</td> <td> 0.000</td> <td>    0.003     0.009</td>\n",
       "</tr>\n",
       "<tr>\n",
       "  <th>Avg_Pts_Per_Dif</th>     <td>    0.0020</td> <td>    0.001</td> <td>    2.025</td> <td> 0.043</td> <td> 6.37e-05     0.004</td>\n",
       "</tr>\n",
       "</table>\n",
       "<table class=\"simpletable\">\n",
       "<tr>\n",
       "  <th>Omnibus:</th>       <td>1449.984</td> <th>  Durbin-Watson:     </th> <td>   0.522</td>\n",
       "</tr>\n",
       "<tr>\n",
       "  <th>Prob(Omnibus):</th>  <td> 0.000</td>  <th>  Jarque-Bera (JB):  </th> <td> 194.485</td>\n",
       "</tr>\n",
       "<tr>\n",
       "  <th>Skew:</th>           <td>-0.000</td>  <th>  Prob(JB):          </th> <td>5.86e-43</td>\n",
       "</tr>\n",
       "<tr>\n",
       "  <th>Kurtosis:</th>       <td> 1.915</td>  <th>  Cond. No.          </th> <td>    94.3</td>\n",
       "</tr>\n",
       "</table>"
      ],
      "text/plain": [
       "<class 'statsmodels.iolib.summary.Summary'>\n",
       "\"\"\"\n",
       "                            OLS Regression Results                            \n",
       "==============================================================================\n",
       "Dep. Variable:               Team1Win   R-squared:                       0.267\n",
       "Model:                            OLS   Adj. R-squared:                  0.266\n",
       "Method:                 Least Squares   F-statistic:                     288.5\n",
       "Date:                Wed, 27 Apr 2016   Prob (F-statistic):          7.43e-264\n",
       "Time:                        10:48:47   Log-Likelihood:                -2262.6\n",
       "No. Observations:                3966   AIC:                             4537.\n",
       "Df Residuals:                    3960   BIC:                             4575.\n",
       "Df Model:                           5                                         \n",
       "Covariance Type:            nonrobust                                         \n",
       "=======================================================================================\n",
       "                          coef    std err          t      P>|t|      [95.0% Conf. Int.]\n",
       "---------------------------------------------------------------------------------------\n",
       "Intercept               0.5000      0.007     73.501      0.000         0.487     0.513\n",
       "Seed_Dif               -0.0282      0.001    -23.174      0.000        -0.031    -0.026\n",
       "Win_Pct_Dif            -0.0134      0.061     -0.222      0.824        -0.132     0.105\n",
       "Avg_Win_Margin_Dif      0.0092      0.002      5.170      0.000         0.006     0.013\n",
       "Avg_Loss_Margin_Dif     0.0061      0.002      3.650      0.000         0.003     0.009\n",
       "Avg_Pts_Per_Dif         0.0020      0.001      2.025      0.043      6.37e-05     0.004\n",
       "==============================================================================\n",
       "Omnibus:                     1449.984   Durbin-Watson:                   0.522\n",
       "Prob(Omnibus):                  0.000   Jarque-Bera (JB):              194.485\n",
       "Skew:                          -0.000   Prob(JB):                     5.86e-43\n",
       "Kurtosis:                       1.915   Cond. No.                         94.3\n",
       "==============================================================================\n",
       "\n",
       "Warnings:\n",
       "[1] Standard Errors assume that the covariance matrix of the errors is correctly specified.\n",
       "\"\"\""
      ]
     },
     "execution_count": 19,
     "metadata": {},
     "output_type": "execute_result"
    }
   ],
   "source": [
    "lm_combo = smf.ols(formula='Team1Win ~ Seed_Dif + Win_Pct_Dif + Avg_Win_Margin_Dif + Avg_Loss_Margin_Dif + Avg_Pts_Per_Dif', data=RegressionSet).fit()\n",
    "lm_combo.summary()"
   ]
  },
  {
   "cell_type": "markdown",
   "metadata": {},
   "source": [
    "### Interpreting the Results\n",
    "\n",
    "All three regressions came back less than impressive in terms of our dependent variables explaining the variation in our target (Team1Win).  Adding our RegSeason comparison stats to Seed_Dif only increased our adj. R-squared by 0.0133 to a not so large total of 0.266.  Also this model returns a very large P-value for Win_Pct_Dif making it statistaically insignificant (Avg_Pts_Per also near our cut off of 0.05).  \n",
    "\n",
    "These results sync up with what we saw in EDA, as Seed-Dif is far and away the most relevant of these attributes.  One potential explanation for this is that a panel of experts assign these seeds by already looking at all of the RegSeason stats that I did while also including factors not included in mine (like the measurement of RPI to indicate strength of schedule).  The difference between RegSeason's adj. R-squared of 0.167 and the 0.2523 of Seed_Dif could be explained by some of these missing attributes.\n",
    "\n",
    "I have other ideas about looking at weighting statistics in late season games higher than earlier ones, building a model to predict total number of tournament wins (and an eventual winner), and exploring the detailed regular statistics to predict points scored in the tournament.    \n",
    "\n",
    "At this point however I was up against a deadline and not really concerned with winning, so was going to remove the unnecessary variables and create a submissions file using the game_to_predict df we made in the beginning.  I proved unsuccesful in meeting the deadline because I couldn't get my csv created, but below are the steps I went through to eventually create one (even though it was past the deadline by the time it was worked out)."
   ]
  },
  {
   "cell_type": "code",
   "execution_count": 21,
   "metadata": {
    "collapsed": false
   },
   "outputs": [
    {
     "data": {
      "text/html": [
       "<table class=\"simpletable\">\n",
       "<caption>OLS Regression Results</caption>\n",
       "<tr>\n",
       "  <th>Dep. Variable:</th>        <td>Team1Win</td>     <th>  R-squared:         </th> <td>   0.267</td> \n",
       "</tr>\n",
       "<tr>\n",
       "  <th>Model:</th>                   <td>OLS</td>       <th>  Adj. R-squared:    </th> <td>   0.266</td> \n",
       "</tr>\n",
       "<tr>\n",
       "  <th>Method:</th>             <td>Least Squares</td>  <th>  F-statistic:       </th> <td>   360.7</td> \n",
       "</tr>\n",
       "<tr>\n",
       "  <th>Date:</th>             <td>Wed, 27 Apr 2016</td> <th>  Prob (F-statistic):</th> <td>3.77e-265</td>\n",
       "</tr>\n",
       "<tr>\n",
       "  <th>Time:</th>                 <td>10:51:08</td>     <th>  Log-Likelihood:    </th> <td> -2262.6</td> \n",
       "</tr>\n",
       "<tr>\n",
       "  <th>No. Observations:</th>      <td>  3966</td>      <th>  AIC:               </th> <td>   4535.</td> \n",
       "</tr>\n",
       "<tr>\n",
       "  <th>Df Residuals:</th>          <td>  3961</td>      <th>  BIC:               </th> <td>   4567.</td> \n",
       "</tr>\n",
       "<tr>\n",
       "  <th>Df Model:</th>              <td>     4</td>      <th>                     </th>     <td> </td>    \n",
       "</tr>\n",
       "<tr>\n",
       "  <th>Covariance Type:</th>      <td>nonrobust</td>    <th>                     </th>     <td> </td>    \n",
       "</tr>\n",
       "</table>\n",
       "<table class=\"simpletable\">\n",
       "<tr>\n",
       "           <td></td>              <th>coef</th>     <th>std err</th>      <th>t</th>      <th>P>|t|</th> <th>[95.0% Conf. Int.]</th> \n",
       "</tr>\n",
       "<tr>\n",
       "  <th>Intercept</th>           <td>    0.5000</td> <td>    0.007</td> <td>   73.510</td> <td> 0.000</td> <td>    0.487     0.513</td>\n",
       "</tr>\n",
       "<tr>\n",
       "  <th>Seed_Dif</th>            <td>   -0.0281</td> <td>    0.001</td> <td>  -26.050</td> <td> 0.000</td> <td>   -0.030    -0.026</td>\n",
       "</tr>\n",
       "<tr>\n",
       "  <th>Avg_Win_Margin_Dif</th>  <td>    0.0092</td> <td>    0.002</td> <td>    5.169</td> <td> 0.000</td> <td>    0.006     0.013</td>\n",
       "</tr>\n",
       "<tr>\n",
       "  <th>Avg_Loss_Margin_Dif</th> <td>    0.0061</td> <td>    0.002</td> <td>    3.654</td> <td> 0.000</td> <td>    0.003     0.009</td>\n",
       "</tr>\n",
       "<tr>\n",
       "  <th>Avg_Pts_Per_Dif</th>     <td>    0.0020</td> <td>    0.001</td> <td>    2.024</td> <td> 0.043</td> <td> 6.14e-05     0.004</td>\n",
       "</tr>\n",
       "</table>\n",
       "<table class=\"simpletable\">\n",
       "<tr>\n",
       "  <th>Omnibus:</th>       <td>1459.671</td> <th>  Durbin-Watson:     </th> <td>   0.523</td>\n",
       "</tr>\n",
       "<tr>\n",
       "  <th>Prob(Omnibus):</th>  <td> 0.000</td>  <th>  Jarque-Bera (JB):  </th> <td> 194.873</td>\n",
       "</tr>\n",
       "<tr>\n",
       "  <th>Skew:</th>           <td>-0.000</td>  <th>  Prob(JB):          </th> <td>4.83e-43</td>\n",
       "</tr>\n",
       "<tr>\n",
       "  <th>Kurtosis:</th>       <td> 1.914</td>  <th>  Cond. No.          </th> <td>    10.6</td>\n",
       "</tr>\n",
       "</table>"
      ],
      "text/plain": [
       "<class 'statsmodels.iolib.summary.Summary'>\n",
       "\"\"\"\n",
       "                            OLS Regression Results                            \n",
       "==============================================================================\n",
       "Dep. Variable:               Team1Win   R-squared:                       0.267\n",
       "Model:                            OLS   Adj. R-squared:                  0.266\n",
       "Method:                 Least Squares   F-statistic:                     360.7\n",
       "Date:                Wed, 27 Apr 2016   Prob (F-statistic):          3.77e-265\n",
       "Time:                        10:51:08   Log-Likelihood:                -2262.6\n",
       "No. Observations:                3966   AIC:                             4535.\n",
       "Df Residuals:                    3961   BIC:                             4567.\n",
       "Df Model:                           4                                         \n",
       "Covariance Type:            nonrobust                                         \n",
       "=======================================================================================\n",
       "                          coef    std err          t      P>|t|      [95.0% Conf. Int.]\n",
       "---------------------------------------------------------------------------------------\n",
       "Intercept               0.5000      0.007     73.510      0.000         0.487     0.513\n",
       "Seed_Dif               -0.0281      0.001    -26.050      0.000        -0.030    -0.026\n",
       "Avg_Win_Margin_Dif      0.0092      0.002      5.169      0.000         0.006     0.013\n",
       "Avg_Loss_Margin_Dif     0.0061      0.002      3.654      0.000         0.003     0.009\n",
       "Avg_Pts_Per_Dif         0.0020      0.001      2.024      0.043      6.14e-05     0.004\n",
       "==============================================================================\n",
       "Omnibus:                     1459.671   Durbin-Watson:                   0.523\n",
       "Prob(Omnibus):                  0.000   Jarque-Bera (JB):              194.873\n",
       "Skew:                          -0.000   Prob(JB):                     4.83e-43\n",
       "Kurtosis:                       1.914   Cond. No.                         10.6\n",
       "==============================================================================\n",
       "\n",
       "Warnings:\n",
       "[1] Standard Errors assume that the covariance matrix of the errors is correctly specified.\n",
       "\"\"\""
      ]
     },
     "execution_count": 21,
     "metadata": {},
     "output_type": "execute_result"
    }
   ],
   "source": [
    "lm_combo = smf.ols(formula='Team1Win ~ Seed_Dif + Avg_Win_Margin_Dif + Avg_Loss_Margin_Dif + Avg_Pts_Per_Dif', data=RegressionSet).fit()\n",
    "lm_combo.summary()"
   ]
  },
  {
   "cell_type": "markdown",
   "metadata": {},
   "source": [
    "### Setting a Current Working Directory\n",
    "\n",
    "Found out about setting CWD when I was having trouble writing my own csv file, which wouldn't work until a CWD was set. This also can make syntax for reading files easier but I had already read my files by this point."
   ]
  },
  {
   "cell_type": "code",
   "execution_count": 5,
   "metadata": {
    "collapsed": false
   },
   "outputs": [
    {
     "name": "stdout",
     "output_type": "stream",
     "text": [
      "The current working directory is C:\\Users\\Nate\\Documents\\Data_Study\n"
     ]
    }
   ],
   "source": [
    "#Setting a current working directory so I can print csv files again\n",
    "\n",
    "path = 'C:/Users/Nate/Documents/Data_Study'\n",
    "\n",
    "os.chdir(path)\n",
    "print('The current working directory is', os.getcwd())\n"
   ]
  },
  {
   "cell_type": "markdown",
   "metadata": {
    "collapsed": true
   },
   "source": [
    "### Do teams entering the tournament on a hot streak perform better?\n",
    "\n",
    "Given the relatively low predictive value found for regular season stats, I next wanted to see if giving more weight to a team's performance later in the season would change this. To find out, I will get similar regular season statistics, but use ***Daynum*** attribute to identify each game in the season, and then calculate new variables to give each stat of interest a value correlated to game it's from. \n"
   ]
  },
  {
   "cell_type": "code",
   "execution_count": 115,
   "metadata": {
    "collapsed": false
   },
   "outputs": [
    {
     "name": "stdout",
     "output_type": "stream",
     "text": [
      "Index(['Season', 'Daynum', 'Wteam', 'Wscore', 'Lteam', 'Lscore', 'Wloc',\n",
      "       'Numot'],\n",
      "      dtype='object')\n"
     ]
    }
   ],
   "source": [
    "print(RegularSeasonCompactResults.columns)"
   ]
  },
  {
   "cell_type": "code",
   "execution_count": 58,
   "metadata": {
    "collapsed": false
   },
   "outputs": [
    {
     "name": "stdout",
     "output_type": "stream",
     "text": [
      "  Season  Daynum Team_ID Season_TeamID  Points  Win_Dummy  Win_Margin  \\\n",
      "0   1985      20    1228     1985_1228      81          1          17   \n",
      "1   1985      25    1106     1985_1106      77          1           7   \n",
      "2   1985      25    1112     1985_1112      63          1           7   \n",
      "3   1985      25    1165     1985_1165      70          1          16   \n",
      "4   1985      25    1192     1985_1192      86          1          12   \n",
      "\n",
      "   Loss_Dummy  Loss_Margin  \n",
      "0           0            0  \n",
      "1           0            0  \n",
      "2           0            0  \n",
      "3           0            0  \n",
      "4           0            0  \n",
      "       Season  Daynum Team_ID Season_TeamID  Points  Win_Dummy  Win_Margin  \\\n",
      "279835   2015     132    1204     2015_1204      36          0           0   \n",
      "279836   2015     132    1116     2015_1116      63          0           0   \n",
      "279837   2015     132    1163     2015_1163      54          0           0   \n",
      "279838   2015     132    1173     2015_1173      65          0           0   \n",
      "279839   2015     132    1277     2015_1277      69          0           0   \n",
      "\n",
      "        Loss_Dummy  Loss_Margin  \n",
      "279835           1           -2  \n",
      "279836           1          -15  \n",
      "279837           1           -8  \n",
      "279838           1           -6  \n",
      "279839           1          -11  \n"
     ]
    }
   ],
   "source": [
    "\n",
    "RegSeasonWeighted = RegularSeasonCompactResults[['Season', 'Daynum', 'Wteam', 'Wscore', 'Lteam', 'Lscore']]\n",
    "\n",
    "RegSeasonWeighted['Win_Margin']=RegSeasonWeighted['Wscore']-RegSeasonWeighted['Lscore']\n",
    "RegSeasonWeighted['Loss_Margin']=RegSeasonWeighted['Win_Margin']*-1\n",
    "\n",
    "#Changing to string so I can concatenate Season and TeamID later\n",
    "RegSeasonWeighted['Wteam'] = RegSeasonWeighted['Wteam'].astype(str)\n",
    "RegSeasonWeighted['Lteam'] = RegSeasonWeighted['Lteam'].astype(str)\n",
    "RegSeasonWeighted['Season'] = RegSeasonWeighted['Season'].astype(str)\n",
    "\n",
    "#splitting wins and losses so I can add dummy variables\n",
    "RegSeasonWeighted_Wins = RegSeasonWeighted[['Season', 'Daynum', 'Wteam', 'Wscore', 'Win_Margin']]\n",
    "RegSeasonWeighted_Wins['Loss_Margin']=0\n",
    "RegSeasonWeighted_Wins['Loss_Dummy']=0\n",
    "RegSeasonWeighted_Wins['Win_Dummy']=1\n",
    "\n",
    "RegSeasonWeighted_Losses = RegSeasonWeighted[['Season', 'Daynum', 'Lteam', 'Lscore', 'Loss_Margin']]\n",
    "RegSeasonWeighted_Losses['Win_Margin']=0\n",
    "RegSeasonWeighted_Losses['Loss_Dummy']=1\n",
    "RegSeasonWeighted_Losses['Win_Dummy']=0\n",
    "\n",
    "#Creating Season_TeamID so I can try and put in a loop \n",
    "RegSeasonWeighted_Wins['Season_TeamID'] = RegSeasonWeighted_Wins['Season'] + '_' + RegSeasonWeighted_Wins['Wteam']\n",
    "RegSeasonWeighted_Losses['Season_TeamID'] = RegSeasonWeighted_Losses['Season'] + '_' + RegSeasonWeighted_Losses['Lteam']\n",
    "\n",
    "#Combining the two dataframes\n",
    "RegSeasonWeighted_Wins = RegSeasonWeighted_Wins.rename(columns={'Wteam':'Team_ID','Wscore':'Points'})\n",
    "RegSeasonWeighted_Losses = RegSeasonWeighted_Losses.rename(columns={'Lteam':'Team_ID','Lscore':'Points'})\n",
    "\n",
    "RegSeasonWeighted_set = pd.concat([RegSeasonWeighted_Wins,RegSeasonWeighted_Losses],ignore_index=True)\n",
    "RegSeasonWeighted_set = RegSeasonWeighted_set[['Season','Daynum','Team_ID','Season_TeamID','Points','Win_Dummy','Win_Margin','Loss_Dummy','Loss_Margin']]\n",
    "\n",
    "\n",
    "print(RegSeasonWeighted_set.head(5))\n",
    "print(RegSeasonWeighted_set.tail(5))\n"
   ]
  },
  {
   "cell_type": "code",
   "execution_count": 59,
   "metadata": {
    "collapsed": false
   },
   "outputs": [
    {
     "name": "stdout",
     "output_type": "stream",
     "text": [
      "        Season  Daynum  Team_ID Season_TeamID  Points  Win_Dummy  Win_Margin  \\\n",
      "82        1985      28     1464     1985_1464      71          1          13   \n",
      "173       1985      32     1464     1985_1464      81          1          26   \n",
      "259       1985      33     1464     1985_1464      70          1          13   \n",
      "140264    1985      37     1464     1985_1464      73          0           0   \n",
      "140412    1985      40     1464     1985_1464      49          0           0   \n",
      "689       1985      47     1464     1985_1464      74          1           1   \n",
      "140648    1985      50     1464     1985_1464      56          0           0   \n",
      "140675    1985      52     1464     1985_1464      69          0           0   \n",
      "140743    1985      54     1464     1985_1464      70          0           0   \n",
      "929       1985      59     1464     1985_1464      70          1           7   \n",
      "1300      1985      68     1464     1985_1464      75          1          14   \n",
      "141385    1985      75     1464     1985_1464      72          0           0   \n",
      "141522    1985      77     1464     1985_1464      62          0           0   \n",
      "1848      1985      82     1464     1985_1464      57          1           3   \n",
      "1903      1985      84     1464     1985_1464      68          1           1   \n",
      "141998    1985      89     1464     1985_1464      65          0           0   \n",
      "142054    1985      90     1464     1985_1464      61          0           0   \n",
      "2428      1985      96     1464     1985_1464      73          1           6   \n",
      "2707      1985     103     1464     1985_1464      71          1           6   \n",
      "2756      1985     105     1464     1985_1464      61          1           1   \n",
      "\n",
      "        Loss_Dummy  Loss_Margin  \n",
      "82               0            0  \n",
      "173              0            0  \n",
      "259              0            0  \n",
      "140264           1          -30  \n",
      "140412           1          -18  \n",
      "689              0            0  \n",
      "140648           1           -7  \n",
      "140675           1          -19  \n",
      "140743           1           -4  \n",
      "929              0            0  \n",
      "1300             0            0  \n",
      "141385           1           -2  \n",
      "141522           1           -4  \n",
      "1848             0            0  \n",
      "1903             0            0  \n",
      "141998           1           -2  \n",
      "142054           1          -13  \n",
      "2428             0            0  \n",
      "2707             0            0  \n",
      "2756             0            0  \n"
     ]
    }
   ],
   "source": [
    "#Sorting by Season, Team_ID, and Daynum to try and create a variable that shows which game number it is (which I will then use to calculate weights)\n",
    "\n",
    "RegSeasonWeighted_set['Team_ID'] = pd.to_numeric(RegSeasonWeighted_set['Team_ID'])\n",
    "RegSeasonWeighted_set['Season'] = pd.to_numeric(RegSeasonWeighted_set['Season'])\n",
    "\n",
    "RegSeasonWeighted_set.sort_values(by=['Season','Team_ID','Daynum'], ascending=[True,False,True], inplace=True)\n",
    "\n",
    "print(RegSeasonWeighted_set.head(20))"
   ]
  },
  {
   "cell_type": "markdown",
   "metadata": {},
   "source": [
    "### Calcuting Weighted Statistics Using 'Game_Count'\n",
    "\n",
    "At this point I wanted to create a ***Game_Count*** column that would indicate what game number it was in the season for each unique Season_TeamID.  I knew I could very easily do this with an IF statement in Excel, but in an effort to keep everything Python focused I tried using **for and while loops**. This proved unsuccesful, and the closest I came was to a solution was importing a package called arcpy and using their AutoIncrement function.  But again this proved unsuccesful, as it returned 'Module arcpy does not exist', which I believe may have to do with the version of Python I'm using (64-bit might not be compatible).  Alas after a few hours I decided to export to csv and do a simple IF statement.\n",
    "\n",
    "\n",
    "Once I created GameCount, I used this number to determine a \"Weight_Factor\" for each record that will be used to create new calculated fields for each variable of interest.  The average number of games played per season is 27, so I've decided (arbitrarily so) to split seasons into 3 sections and apply a different weight factor to each.  The first third (games 1-9) have a weight factor of **0.7**, the second third has a weight factor of **0.85**, and the third segment (all games past 18) have a weight_factor of **1**. This should make it so that stats from later in the season will be of greater consequence (for both winning and losing)."
   ]
  },
  {
   "cell_type": "code",
   "execution_count": 69,
   "metadata": {
    "collapsed": false
   },
   "outputs": [],
   "source": [
    "#creating csv output for dataframe\n",
    "RegSeasonWeighted_set.to_csv('RegSeasonWeighted_set.csv',index=False)"
   ]
  },
  {
   "cell_type": "code",
   "execution_count": 6,
   "metadata": {
    "collapsed": false
   },
   "outputs": [
    {
     "name": "stdout",
     "output_type": "stream",
     "text": [
      "   Season  Daynum  Team_ID Season_TeamID  Points  Win_Dummy  Win_Margin  \\\n",
      "0    1985      28     1464     1985_1464      71          1          13   \n",
      "1    1985      32     1464     1985_1464      81          1          26   \n",
      "2    1985      33     1464     1985_1464      70          1          13   \n",
      "3    1985      37     1464     1985_1464      73          0           0   \n",
      "4    1985      40     1464     1985_1464      49          0           0   \n",
      "\n",
      "   Loss_Dummy  Loss_Margin  Game_Count  Weight_Factor  Points_Weight  \\\n",
      "0           0            0           1            0.7           49.7   \n",
      "1           0            0           2            0.7           56.7   \n",
      "2           0            0           3            0.7           49.0   \n",
      "3           1          -30           4            0.7           51.1   \n",
      "4           1          -18           5            0.7           34.3   \n",
      "\n",
      "   Wins_Weight  Win_Margin_Weight  Losses_Weight  Loss_Margin_Weight  \n",
      "0          0.7                9.1            0.0                 0.0  \n",
      "1          0.7               18.2            0.0                 0.0  \n",
      "2          0.7                9.1            0.0                 0.0  \n",
      "3          0.0                0.0            0.7               -21.0  \n",
      "4          0.0                0.0            0.7               -12.6  \n"
     ]
    }
   ],
   "source": [
    "#reading new file and creating weighted stats\n",
    "RegSeasonWeighted_set2 = pd.read_csv('RegSeasonWeighted_set_v3.csv')\n",
    "\n",
    "RegSeasonWeighted_set2['Points_Weight'] = RegSeasonWeighted_set2['Points']*RegSeasonWeighted_set2['Weight_Factor']\n",
    "RegSeasonWeighted_set2['Wins_Weight'] = RegSeasonWeighted_set2['Win_Dummy']*RegSeasonWeighted_set2['Weight_Factor']\n",
    "RegSeasonWeighted_set2['Win_Margin_Weight'] = RegSeasonWeighted_set2['Win_Margin']*RegSeasonWeighted_set2['Weight_Factor']\n",
    "RegSeasonWeighted_set2['Losses_Weight'] = RegSeasonWeighted_set2['Loss_Dummy']*RegSeasonWeighted_set2['Weight_Factor']\n",
    "RegSeasonWeighted_set2['Loss_Margin_Weight'] = RegSeasonWeighted_set2['Loss_Margin']*RegSeasonWeighted_set2['Weight_Factor']\n",
    "\n",
    "print(RegSeasonWeighted_set2.head(5))"
   ]
  },
  {
   "cell_type": "markdown",
   "metadata": {},
   "source": [
    "### I cracked the Groupby function!\n",
    "\n",
    "Previously I couldn't figure out how to return it to a dataframe, but turns out it's much simpler than I thought.  Don't let the one line of code fool you though, this is my greatest Python accomplishment to date :)  Going to sum the appropriate values, turn them into averages (like we did with the unweighted statistics), and create a new df that takes out unused attributes."
   ]
  },
  {
   "cell_type": "code",
   "execution_count": 7,
   "metadata": {
    "collapsed": false
   },
   "outputs": [
    {
     "name": "stdout",
     "output_type": "stream",
     "text": [
      "   Season  Team_ID  Total_Games  Win_Dummy  Loss_Dummy   Win_Pct  \\\n",
      "0    1985     1102           24          5          19  0.220551   \n",
      "1    1985     1103           23          9          14  0.403694   \n",
      "2    1985     1104           30         21           9  0.687861   \n",
      "3    1985     1106           24         10          14  0.426065   \n",
      "4    1985     1108           25         19           6  0.778043   \n",
      "\n",
      "   Avg_Win_Margin  Avg_Loss_Margin  Avg_Pts_Per  \n",
      "0        7.600000        -7.784211    52.389583  \n",
      "1        6.355556        -8.067857    50.726087  \n",
      "2       11.104762        -4.227778    58.735000  \n",
      "3        7.610000       -10.703571    59.806250  \n",
      "4       11.371053        -8.566667    69.326000  \n"
     ]
    }
   ],
   "source": [
    "#Summing these values using groupby function again, except THIS TIME I know how to change it back to a dataframe.\n",
    "\n",
    "g1 = RegSeasonWeighted_set2.groupby([\"Season\", \"Team_ID\"], as_index=False).sum()\n",
    "\n",
    "g1['Total_Games']=g1['Win_Dummy']+g1['Loss_Dummy']\n",
    "g1['Win_Pct']=g1['Wins_Weight']/g1['Weight_Factor']      #Abbreviated version of win_pct, 'win points earned/total win points possible'\n",
    "g1['Avg_Win_Margin']=g1['Win_Margin_Weight']/g1['Win_Dummy']\n",
    "g1['Avg_Loss_Margin']=g1['Loss_Margin_Weight']/g1['Loss_Dummy']\n",
    "g1['Avg_Pts_Per']=g1['Points_Weight']/g1['Total_Games']\n",
    "\n",
    "g1 = g1.fillna(0)\n",
    "\n",
    "RegSeasonWeighted_final = g1[['Season','Team_ID','Total_Games','Win_Dummy','Loss_Dummy','Win_Pct','Avg_Win_Margin','Avg_Loss_Margin','Avg_Pts_Per']]\n",
    "print(RegSeasonWeighted_final.head(5))"
   ]
  },
  {
   "cell_type": "code",
   "execution_count": 14,
   "metadata": {
    "collapsed": false
   },
   "outputs": [
    {
     "name": "stderr",
     "output_type": "stream",
     "text": [
      "C:\\Users\\Nate\\Anaconda3\\lib\\site-packages\\ipykernel\\__main__.py:2: SettingWithCopyWarning: \n",
      "A value is trying to be set on a copy of a slice from a DataFrame.\n",
      "Try using .loc[row_indexer,col_indexer] = value instead\n",
      "\n",
      "See the caveats in the documentation: http://pandas.pydata.org/pandas-docs/stable/indexing.html#indexing-view-versus-copy\n",
      "  from ipykernel import kernelapp as app\n",
      "C:\\Users\\Nate\\Anaconda3\\lib\\site-packages\\ipykernel\\__main__.py:3: SettingWithCopyWarning: \n",
      "A value is trying to be set on a copy of a slice from a DataFrame.\n",
      "Try using .loc[row_indexer,col_indexer] = value instead\n",
      "\n",
      "See the caveats in the documentation: http://pandas.pydata.org/pandas-docs/stable/indexing.html#indexing-view-versus-copy\n",
      "  app.launch_new_instance()\n"
     ]
    },
    {
     "name": "stdout",
     "output_type": "stream",
     "text": [
      "RegSeason Means for Teams with Tournament Wins:\n",
      "WSeedNum            4.898134\n",
      "Win_Pct             0.772011\n",
      "Avg_Win_Margin     13.431123\n",
      "Avg_Loss_Margin    -7.315108\n",
      "Avg_Pts_Per        67.017626\n",
      "dtype: float64\n",
      "\n",
      "Avg RegSeason Means for Teams with Tournament losses:\n",
      "LSeedNum            8.692890\n",
      "Win_Pct             0.725533\n",
      "Avg_Win_Margin     12.036154\n",
      "Avg_Loss_Margin    -7.908883\n",
      "Avg_Pts_Per        64.829823\n",
      "dtype: float64\n"
     ]
    }
   ],
   "source": [
    "#Have to convert variables in RegSeason to same type so the merge will work\n",
    "RegSeasonWeighted_final['Team_ID'] = RegSeasonWeighted_final['Team_ID'].astype(str)\n",
    "RegSeasonWeighted_final['Season'] = RegSeasonWeighted_final['Season'].astype(str)\n",
    "\n",
    "#seperating the winners and losers from compact_results to merge with regular season stats based on team_ID and season\n",
    "set7 = compact_results[['Season','Wteam','WSeedNum','Game_ID']].rename(columns={'Wteam':'Team_ID'})\n",
    "set7 = pd.merge(set7,RegSeasonWeighted_final[['Season','Team_ID','Win_Pct','Avg_Win_Margin','Avg_Loss_Margin','Avg_Pts_Per']],how='left',on=['Season','Team_ID'])\n",
    "\n",
    "set8 = compact_results[['Season','Lteam','LSeedNum','Game_ID']].rename(columns={'Lteam':'Team_ID'})\n",
    "set8 = pd.merge(set8,RegSeasonWeighted_final[['Season','Team_ID','Win_Pct','Avg_Win_Margin','Avg_Loss_Margin','Avg_Pts_Per']],how='left',on=['Season','Team_ID'])\n",
    "\n",
    "#Now going to look at same EDA as we did for first dataset\n",
    "\n",
    "print('RegSeason Means for Teams with Tournament Wins:')\n",
    "print(set7[['WSeedNum','Win_Pct','Avg_Win_Margin','Avg_Loss_Margin','Avg_Pts_Per']].mean())\n",
    "print()\n",
    "print('Avg RegSeason Means for Teams with Tournament losses:')\n",
    "print(set8[['LSeedNum','Win_Pct','Avg_Win_Margin','Avg_Loss_Margin','Avg_Pts_Per']].mean())"
   ]
  },
  {
   "cell_type": "code",
   "execution_count": 26,
   "metadata": {
    "collapsed": false
   },
   "outputs": [
    {
     "data": {
      "image/png": "[encoded data removed]",
      "text/plain": [
       "<matplotlib.figure.Figure at 0x1e82f8a860>"
      ]
     },
     "metadata": {},
     "output_type": "display_data"
    }
   ],
   "source": [
    "#Plotting Distributions for each variable, with Blue representing winners and Green losers\n",
    "\n",
    "sns.kdeplot(set7['Win_Pct'], shade=True);\n",
    "sns.kdeplot(set8['Win_Pct'], shade=True);"
   ]
  },
  {
   "cell_type": "code",
   "execution_count": 15,
   "metadata": {
    "collapsed": false
   },
   "outputs": [
    {
     "data": {
      "image/png": "[encoded data removed]",
      "text/plain": [
       "<matplotlib.figure.Figure at 0x42b170eda0>"
      ]
     },
     "metadata": {},
     "output_type": "display_data"
    }
   ],
   "source": [
    "#Avg_Loss_Margin is just the inverse of this graph\n",
    "\n",
    "sns.kdeplot(set7['Avg_Win_Margin'], shade=True);\n",
    "sns.kdeplot(set8['Avg_Win_Margin'], shade=True);"
   ]
  },
  {
   "cell_type": "code",
   "execution_count": 28,
   "metadata": {
    "collapsed": false
   },
   "outputs": [
    {
     "data": {
      "image/png": "[encoded data removed]",
      "text/plain": [
       "<matplotlib.figure.Figure at 0x1e82f0a780>"
      ]
     },
     "metadata": {},
     "output_type": "display_data"
    }
   ],
   "source": [
    "sns.kdeplot(set7['Avg_Pts_Per'], shade=True);\n",
    "sns.kdeplot(set8['Avg_Pts_Per'], shade=True);"
   ]
  },
  {
   "cell_type": "markdown",
   "metadata": {},
   "source": [
    "### Interpreting the Weighted EDA...\n",
    "\n",
    "It's difficult to decipher alot from the averages given how much larger our weighted stats are, but the updated graphs don't reveal any glaring differences from our non weighted sets.  Across all three, the immediate takeaway is that with weighted stats for winning teams show essentially the same advantage over losing tournament teams as they did with the non-weighted.  Now I'm going to follow the same steps we went through above to create a multiple linear regression for these attributes.\n"
   ]
  },
  {
   "cell_type": "code",
   "execution_count": 16,
   "metadata": {
    "collapsed": false
   },
   "outputs": [
    {
     "data": {
      "text/html": [
       "<table class=\"simpletable\">\n",
       "<caption>OLS Regression Results</caption>\n",
       "<tr>\n",
       "  <th>Dep. Variable:</th>        <td>Team1Win</td>     <th>  R-squared:         </th> <td>   0.142</td> \n",
       "</tr>\n",
       "<tr>\n",
       "  <th>Model:</th>                   <td>OLS</td>       <th>  Adj. R-squared:    </th> <td>   0.141</td> \n",
       "</tr>\n",
       "<tr>\n",
       "  <th>Method:</th>             <td>Least Squares</td>  <th>  F-statistic:       </th> <td>   164.3</td> \n",
       "</tr>\n",
       "<tr>\n",
       "  <th>Date:</th>             <td>Thu, 05 May 2016</td> <th>  Prob (F-statistic):</th> <td>2.70e-130</td>\n",
       "</tr>\n",
       "<tr>\n",
       "  <th>Time:</th>                 <td>00:06:33</td>     <th>  Log-Likelihood:    </th> <td> -2574.1</td> \n",
       "</tr>\n",
       "<tr>\n",
       "  <th>No. Observations:</th>      <td>  3966</td>      <th>  AIC:               </th> <td>   5158.</td> \n",
       "</tr>\n",
       "<tr>\n",
       "  <th>Df Residuals:</th>          <td>  3961</td>      <th>  BIC:               </th> <td>   5190.</td> \n",
       "</tr>\n",
       "<tr>\n",
       "  <th>Df Model:</th>              <td>     4</td>      <th>                     </th>     <td> </td>    \n",
       "</tr>\n",
       "<tr>\n",
       "  <th>Covariance Type:</th>      <td>nonrobust</td>    <th>                     </th>     <td> </td>    \n",
       "</tr>\n",
       "</table>\n",
       "<table class=\"simpletable\">\n",
       "<tr>\n",
       "           <td></td>              <th>coef</th>     <th>std err</th>      <th>t</th>      <th>P>|t|</th> <th>[95.0% Conf. Int.]</th> \n",
       "</tr>\n",
       "<tr>\n",
       "  <th>Intercept</th>           <td>    0.4980</td> <td>    0.007</td> <td>   67.240</td> <td> 0.000</td> <td>    0.484     0.513</td>\n",
       "</tr>\n",
       "<tr>\n",
       "  <th>Win_Pct_Dif</th>         <td>    0.5792</td> <td>    0.057</td> <td>   10.101</td> <td> 0.000</td> <td>    0.467     0.692</td>\n",
       "</tr>\n",
       "<tr>\n",
       "  <th>Avg_Win_Margin_Dif</th>  <td>    0.0218</td> <td>    0.002</td> <td>    9.781</td> <td> 0.000</td> <td>    0.017     0.026</td>\n",
       "</tr>\n",
       "<tr>\n",
       "  <th>Avg_Loss_Margin_Dif</th> <td>    0.0066</td> <td>    0.003</td> <td>    2.306</td> <td> 0.021</td> <td>    0.001     0.012</td>\n",
       "</tr>\n",
       "<tr>\n",
       "  <th>Avg_Pts_Per_Dif</th>     <td>    0.0054</td> <td>    0.001</td> <td>    4.470</td> <td> 0.000</td> <td>    0.003     0.008</td>\n",
       "</tr>\n",
       "</table>\n",
       "<table class=\"simpletable\">\n",
       "<tr>\n",
       "  <th>Omnibus:</th>       <td> 0.180</td> <th>  Durbin-Watson:     </th> <td>   0.293</td>\n",
       "</tr>\n",
       "<tr>\n",
       "  <th>Prob(Omnibus):</th> <td> 0.914</td> <th>  Jarque-Bera (JB):  </th> <td> 377.080</td>\n",
       "</tr>\n",
       "<tr>\n",
       "  <th>Skew:</th>          <td> 0.016</td> <th>  Prob(JB):          </th> <td>1.31e-82</td>\n",
       "</tr>\n",
       "<tr>\n",
       "  <th>Kurtosis:</th>      <td> 1.490</td> <th>  Cond. No.          </th> <td>    64.8</td>\n",
       "</tr>\n",
       "</table>"
      ],
      "text/plain": [
       "<class 'statsmodels.iolib.summary.Summary'>\n",
       "\"\"\"\n",
       "                            OLS Regression Results                            \n",
       "==============================================================================\n",
       "Dep. Variable:               Team1Win   R-squared:                       0.142\n",
       "Model:                            OLS   Adj. R-squared:                  0.141\n",
       "Method:                 Least Squares   F-statistic:                     164.3\n",
       "Date:                Thu, 05 May 2016   Prob (F-statistic):          2.70e-130\n",
       "Time:                        00:06:33   Log-Likelihood:                -2574.1\n",
       "No. Observations:                3966   AIC:                             5158.\n",
       "Df Residuals:                    3961   BIC:                             5190.\n",
       "Df Model:                           4                                         \n",
       "Covariance Type:            nonrobust                                         \n",
       "=======================================================================================\n",
       "                          coef    std err          t      P>|t|      [95.0% Conf. Int.]\n",
       "---------------------------------------------------------------------------------------\n",
       "Intercept               0.4980      0.007     67.240      0.000         0.484     0.513\n",
       "Win_Pct_Dif             0.5792      0.057     10.101      0.000         0.467     0.692\n",
       "Avg_Win_Margin_Dif      0.0218      0.002      9.781      0.000         0.017     0.026\n",
       "Avg_Loss_Margin_Dif     0.0066      0.003      2.306      0.021         0.001     0.012\n",
       "Avg_Pts_Per_Dif         0.0054      0.001      4.470      0.000         0.003     0.008\n",
       "==============================================================================\n",
       "Omnibus:                        0.180   Durbin-Watson:                   0.293\n",
       "Prob(Omnibus):                  0.914   Jarque-Bera (JB):              377.080\n",
       "Skew:                           0.016   Prob(JB):                     1.31e-82\n",
       "Kurtosis:                       1.490   Cond. No.                         64.8\n",
       "==============================================================================\n",
       "\n",
       "Warnings:\n",
       "[1] Standard Errors assume that the covariance matrix of the errors is correctly specified.\n",
       "\"\"\""
      ]
     },
     "execution_count": 16,
     "metadata": {},
     "output_type": "execute_result"
    }
   ],
   "source": [
    "#Renaming columns so that when I merge them together, team 1 and team 2 stats are unique.  Sets 7 and 8 are for winners set to Team1 (Team1Win = 1).  \n",
    "#Sets 9 and 10 are for losers set to Team1 (Team1Win = 0). \n",
    "\n",
    "set7 = set7.rename(columns={'Team_ID':'Team1','WSeedNum':'Team1Seed'})\n",
    "set8 = set8.rename(columns={'Team_ID':'Team2','LSeedNum':'Team2Seed', 'Win_Pct':'Win_Pct2','Avg_Win_Margin':'Avg_Win_Margin2','Avg_Loss_Margin':'Avg_Loss_Margin2','Avg_Pts_Per':'Avg_Pts_Per2'})\n",
    "\n",
    "set9 = set8.rename(columns={'Team2':'Team1', 'Team2Seed':'Team1Seed','Win_Pct2':'Win_Pct','Avg_Win_Margin2':'Avg_Win_Margin','Avg_Loss_Margin':'Avg_Loss_Margin2','Avg_Pts_Per2':'Avg_Pts_Per'})\n",
    "set10 = set7.rename(columns={'Team1':'Team2', 'Team1Seed':'Team2Seed','Win_Pct':'Win_Pct2','Avg_Win_Margin':'Avg_Win_Margin2', 'Avg_Loss_Margin':'Avg_Loss_Margin2','Avg_Pts_Per':'Avg_Pts_Per2'})\n",
    "\n",
    "#Setting Team1Win.  This will be the target variable for our regression.\n",
    "\n",
    "winnerfirst_set2 = pd.merge(set7,set8,how='left',on=['Game_ID'])\n",
    "winnerfirst_set2['Team1Win']=1\n",
    "\n",
    "loserfirst_set2 = pd.merge(set9,set10,how='left',on=['Game_ID'])\n",
    "loserfirst_set2['Team1Win']=0\n",
    "\n",
    "#combining the 2 files into one and setting these variables to numeric.  \n",
    "\n",
    "complete_set2 = pd.concat([winnerfirst_set2,loserfirst_set2],ignore_index=True)\n",
    "complete_set2['Team1Seed'] = pd.to_numeric(complete_set2['Team1Seed'])\n",
    "complete_set2['Team2Seed'] = pd.to_numeric(complete_set2['Team2Seed'])\n",
    "complete_set2['Team1Win'] = pd.to_numeric(complete_set2['Team1Win'])\n",
    "\n",
    "#found there were still a few blanks in avg_loss_margin for teams that never lost, so filling those with zero so the below calculations work\n",
    "complete_set2 = complete_set2.fillna(0)\n",
    "\n",
    "#creating attributes for differences between 1st and 2nd team, then making a smaller dataframe with just the relevant variables to work with\n",
    "\n",
    "complete_set2['Seed_Dif']=complete_set2['Team1Seed']-complete_set2['Team2Seed']\n",
    "complete_set2['Win_Pct_Dif']=complete_set2['Win_Pct']-complete_set2['Win_Pct2']\n",
    "complete_set2['Avg_Win_Margin_Dif']=complete_set2['Avg_Win_Margin']-complete_set2['Avg_Win_Margin2']\n",
    "complete_set2['Avg_Loss_Margin_Dif']=complete_set2['Avg_Loss_Margin']-complete_set2['Avg_Loss_Margin2']\n",
    "complete_set2['Avg_Pts_Per_Dif']=complete_set2['Avg_Pts_Per']-complete_set2['Avg_Pts_Per2']\n",
    "\n",
    "RegressionSet_Weighted = complete_set2[['Game_ID','Team1','Team2','Seed_Dif','Win_Pct_Dif','Avg_Win_Margin_Dif','Avg_Loss_Margin_Dif','Avg_Pts_Per_Dif','Team1Win']]\n",
    "\n",
    "#creating a linear regression model\n",
    "lm_weighted = smf.ols(formula='Team1Win ~ Win_Pct_Dif + Avg_Win_Margin_Dif + Avg_Loss_Margin_Dif + Avg_Pts_Per_Dif', data=RegressionSet_Weighted).fit()\n",
    "\n",
    "lm_weighted.summary()\n"
   ]
  },
  {
   "cell_type": "markdown",
   "metadata": {},
   "source": [
    "The results for our weighting regular season statistics to put more emphasis on later games than earlier ones ending up diluting the predictive value of these attributes slightly, as our R-squared went from an already low .167 to .142.  Each attribute is still shown to be statistically significant.\n",
    "\n",
    "One potential reasoning for our drop in R-squared is that good teams from smaller conferences could be performing much better late in the season due to the competition they're facing.  Winning the MAC tournament will typically mean facing lesser opponents than a team in the Big East conference. These smaller conference winners also can tend to dominate their conference but still be seeded lower than teams with similar or worse records from big conferences.  So weighting end of season may be providing good smaller conference teams that still face tough odds in the tourny an extra boost.  Another obvious limitation with this kind of weighting is that the Weight_Factor used for each segment of the season is arbitrary, and perhaps there are more optimal numbers that could improve upon this score."
   ]
  },
  {
   "cell_type": "markdown",
   "metadata": {
    "collapsed": true
   },
   "source": [
    "### Final Thoughts.....\n",
    "\n",
    "I had goals of using some sort of cross validation to see how the two models I made performed and compared to one another, but unfortunately I was unable to get them to work.  I tried both sckikit and statsmodel, but almost all of the forum examples online are using a simple regression with only one dependent, where as I was using OLS with multiple.  But I definitely know how to get this process in Python to work on the iris data set, because that example is everywhere.\n",
    "\n",
    "Another thing I hoped to do was create prediction files in time for the tournament.  This was another syntax roadblock however, as I could only get a predictions file to work with a simple linear regression but not with multiple.  Given the fact that I missed the tournament deadline however, this file would've been less useful as it was too late to see how I stacked up against the competition.\n",
    "\n",
    "The final thing I attempted to work on was to see historically who had been the best and worst performing teams.  I was able to use the freshly mastered groupby function to get aggregated performance for each Team, but then I ran into trouble mapping the team names to this new dataframe, and once I could only graph the top performing IDs I decided it wasn't as appealing.  'Team 1124' at the top of the leaderboard doesn't quite the grab the attention that a 'Duke' or 'Kentucky' does.\n",
    "\n",
    "In summary, I view this as a really useful intro into using Python for data science purposes.  The most valuable feature to me is what I've learned about manipulating datasets, as the speed and ease at which you can do it in Python is far superior to that in Excel.  Applying actual models and testing their accuracy/performance was obviously trickier, but I think with a little more time searching for sources one could pretty quickly pick up on this too.  While the conclusions I came to about the NCAA tournament may not be that valuable, the comfortability I have writing code as improved dramatically and I fully plan to continue using Python in my future career.\n",
    "\n"
   ]
  }
 ],
 "metadata": {
  "kernelspec": {
   "display_name": "Python 3",
   "language": "python",
   "name": "python3"
  },
  "language_info": {
   "codemirror_mode": {
    "name": "ipython",
    "version": 3
   },
   "file_extension": ".py",
   "mimetype": "text/x-python",
   "name": "python",
   "nbconvert_exporter": "python",
   "pygments_lexer": "ipython3",
   "version": "3.5.1"
  }
 },
 "nbformat": 4,
 "nbformat_minor": 0
}
